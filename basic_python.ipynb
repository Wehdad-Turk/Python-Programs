{
 "cells": [
  {
   "cell_type": "markdown",
   "metadata": {},
   "source": [
    "- Python is developed by **Guido van Rossum**.\n",
    "- Python was conceived in late 1980 and implementation was started in December 1989.\n",
    "- Python has become a core language for cutting edge technologies such as artificial intelligence, big data, NLP, security, etc."
   ]
  },
  {
   "cell_type": "markdown",
   "metadata": {},
   "source": [
    "<h3 align = 'center', style= \"color:red\"> Introduction:  Features </h3>"
   ]
  },
  {
   "cell_type": "markdown",
   "metadata": {},
   "source": [
    "* Python is an interpreted, interactive, general-purpose, object-oriented, and high-level programming language.\n",
    "* Open-Source\n",
    "* Simplicity & Readibility\n",
    "+ Portability\n",
    "- Huge Community of developers.\n",
    "* Python works on different plateforms(Windows, Mac, Linux, Raspberry Pi, etc.)\n",
    "- Vast Support of Libraries and frameworks:\n",
    "-- For data Science: Numpy, Pandas, Scipy, PyTorch, etc.\n",
    "  - For Machine Learning: Tensorflow, Scikit-Learn, PyBrain, PyML, etc.\n",
    "  - For Artificial Intelligence: Keras, OpenCV, NLTK, etc.\n",
    "  - For Web Developement: Django, Flask, Pyramid, etc.\n",
    "  - For Network Programming: Asyncio, Pulsar, Pyzmq, etc."
   ]
  },
  {
   "cell_type": "code",
   "execution_count": 4,
   "metadata": {},
   "outputs": [
    {
     "name": "stdout",
     "output_type": "stream",
     "text": [
      "Hello world! Python is high level, general purpose programming language\n"
     ]
    }
   ],
   "source": [
    "# Printing text\n",
    "print(\"Hello world! Python is high level, general purpose programming language\")"
   ]
  },
  {
   "cell_type": "code",
   "execution_count": 5,
   "metadata": {},
   "outputs": [
    {
     "data": {
      "text/plain": [
       "'Wehdad Alam'"
      ]
     },
     "execution_count": 5,
     "metadata": {},
     "output_type": "execute_result"
    }
   ],
   "source": [
    "# promt user for input and print the value\n",
    "name = input(\"kindly enter you name\")\n",
    "name"
   ]
  },
  {
   "cell_type": "code",
   "execution_count": null,
   "metadata": {},
   "outputs": [],
   "source": []
  }
 ],
 "metadata": {
  "kernelspec": {
   "display_name": "Python 3",
   "language": "python",
   "name": "python3"
  },
  "language_info": {
   "codemirror_mode": {
    "name": "ipython",
    "version": 3
   },
   "file_extension": ".py",
   "mimetype": "text/x-python",
   "name": "python",
   "nbconvert_exporter": "python",
   "pygments_lexer": "ipython3",
   "version": "3.11.2"
  }
 },
 "nbformat": 4,
 "nbformat_minor": 2
}
