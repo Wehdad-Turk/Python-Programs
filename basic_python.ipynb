{
 "cells": [
  {
   "cell_type": "markdown",
   "metadata": {},
   "source": [
    "- Python is developed by **Guido van Rossum**.\n",
    "- Python was conceived in late 1980 and implementation was started in December 1989.\n",
    "- Python has become a core language for cutting edge technologies such as artificial intelligence, big data, NLP, security, etc."
   ]
  },
  {
   "cell_type": "markdown",
   "metadata": {},
   "source": [
    "<h3 align = 'center'> Introduction:  Features </h3>"
   ]
  },
  {
   "cell_type": "markdown",
   "metadata": {},
   "source": [
    "* Python is an interpreted, interactive, general-purpose, object-oriented, and high-level programming language.\n",
    "* Open-Source\n",
    "* Simplicity & Readibility\n",
    "+ Portability\n",
    "- Huge Community of developers.\n",
    "* Python works on different plateforms(Windows, Mac, Linux, Raspberry Pi, etc.)\n",
    "- Vast Support of Libraries and frameworks:\n",
    "- - For data Science: Numpy, Pandas, Scipy, PyTorch, etc.\n",
    "  - For Machine Learning: Tensorflow, Scikit-Learn, PyBrain, PyML, etc.\n",
    "  - For Artificial Intelligence: Keras, OpenCV, NLTK, etc.\n",
    "  - For Web Developement: Django, Flask, Pyramid, etc.\n",
    "  - For Network Programming: Asyncio, Pulsar, Pyzmq, etc."
   ]
  },
  {
   "cell_type": "markdown",
   "metadata": {},
   "source": []
  }
 ],
 "metadata": {
  "language_info": {
   "name": "python"
  }
 },
 "nbformat": 4,
 "nbformat_minor": 2
}
